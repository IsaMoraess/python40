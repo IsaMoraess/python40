{
 "cells": [
  {
   "cell_type": "markdown",
   "id": "0c749838",
   "metadata": {},
   "source": [
    "# Conectando no Banco de Dados com Linguaugem Python"
   ]
  },
  {
   "cell_type": "raw",
   "id": "6bac674b",
   "metadata": {},
   "source": [
    "Leia o manual em pdf no Capitulo 12 do curso com a descrição completa do que e Linguagem SQL!"
   ]
  },
  {
   "cell_type": "code",
   "execution_count": null,
   "id": "7cc41a73",
   "metadata": {},
   "outputs": [],
   "source": [
    "# Conecta no banco de dados\n",
    "con = sqlite3.connect('cap12_dsa.db')"
   ]
  },
  {
   "cell_type": "code",
   "execution_count": null,
   "id": "c303ad29",
   "metadata": {},
   "outputs": [],
   "source": [
    "# Abre um cursos para percorrer os dados no banco de dados\n",
    "cursor = con.cursor()"
   ]
  },
  {
   "cell_type": "code",
   "execution_count": null,
   "id": "932b92b2",
   "metadata": {},
   "outputs": [],
   "source": [
    "# Query SQL para extrair os nomes das colunas no banco de dados\n",
    "sql_query = \"\"\"SELECT name FROM sqlite_master WHERE type = 'table'; \"\"\""
   ]
  },
  {
   "cell_type": "code",
   "execution_count": null,
   "id": "a80d6aaa",
   "metadata": {},
   "outputs": [],
   "source": [
    "# Executar a query\n",
    "cursor.execute(sql_query)"
   ]
  },
  {
   "cell_type": "code",
   "execution_count": null,
   "id": "66878bed",
   "metadata": {},
   "outputs": [],
   "source": [
    "# Visualizar o resultado\n",
    "print(cursor.fetchall())"
   ]
  },
  {
   "cell_type": "raw",
   "id": "3581df21",
   "metadata": {},
   "source": [
    "A query retorna todas as linhas e todas as colunas da  tabela."
   ]
  },
  {
   "cell_type": "code",
   "execution_count": null,
   "id": "b3fb9c89",
   "metadata": {},
   "outputs": [],
   "source": [
    "# Criar uma ilustração SQL\n",
    "query1 = 'SELECT * FROM tb_vendas_dsa'"
   ]
  },
  {
   "cell_type": "code",
   "execution_count": null,
   "id": "7c2b67b8",
   "metadata": {},
   "outputs": [],
   "source": [
    "# Executar a query no banco de dados\n",
    "cursor.execute(querly1)"
   ]
  },
  {
   "cell_type": "code",
   "execution_count": null,
   "id": "40107237",
   "metadata": {},
   "outputs": [],
   "source": [
    "# List comprehension para visualizar os nomes das colunas\n",
    "nomes_colunas = [description[0] for description in cursor.description]"
   ]
  },
  {
   "cell_type": "code",
   "execution_count": null,
   "id": "43a5c2bb",
   "metadata": {},
   "outputs": [],
   "source": [
    "# Visualizar o resultado\n",
    "print(nomes_colunas)"
   ]
  },
  {
   "cell_type": "code",
   "execution_count": null,
   "id": "3d2c6a76",
   "metadata": {},
   "outputs": [],
   "source": [
    "# Retorna os dados  da execução da query\n",
    "dados = cursor.fetchall()"
   ]
  },
  {
   "cell_type": "code",
   "execution_count": null,
   "id": "c0fba7a7",
   "metadata": {},
   "outputs": [],
   "source": [
    "# Visualiza os dados\n",
    "dados"
   ]
  }
 ],
 "metadata": {
  "kernelspec": {
   "display_name": "Python 3 (ipykernel)",
   "language": "python",
   "name": "python3"
  },
  "language_info": {
   "codemirror_mode": {
    "name": "ipython",
    "version": 3
   },
   "file_extension": ".py",
   "mimetype": "text/x-python",
   "name": "python",
   "nbconvert_exporter": "python",
   "pygments_lexer": "ipython3",
   "version": "3.9.13"
  }
 },
 "nbformat": 4,
 "nbformat_minor": 5
}
